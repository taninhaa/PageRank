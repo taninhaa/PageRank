{
 "cells": [
  {
   "cell_type": "code",
   "execution_count": 521,
   "source": [
    "import numpy as np\n",
    "import matplotlib.pyplot as plt\n",
    "import wikipediaapi\n",
    "import scipy.sparse as sps\n",
    "import scipy.sparse.linalg as spl\n",
    "import seaborn\n",
    "import csv\n",
    "\n",
    "alpha=0.85"
   ],
   "outputs": [],
   "metadata": {}
  },
  {
   "cell_type": "code",
   "execution_count": 585,
   "source": [
    "#Power iteration avec la somme\n",
    "def power_iteration_somme(dict1,alpha,epsilon):\n",
    "    nb_sommet=len(dict1)\n",
    "    y=(np.ones(nb_sommet))*(1-alpha)/nb_sommet\n",
    "    x0=np.zeros(nb_sommet)\n",
    "    x1=np.ones(nb_sommet)\n",
    "    iteration=0\n",
    "    while(np.linalg.norm(x1-x0)>epsilon): \n",
    "        iteration=iteration+1\n",
    "        x0=np.copy(x1)\n",
    "        for cles in dict1:\n",
    "            somme=0\n",
    "            for cles2 in dict1: \n",
    "                if cles in dict1[cles2]:\n",
    "                    somme=somme+(x0[cles2]/len(dict1[cles2]))\n",
    "            x1[cles]=alpha*somme+y[cles]\n",
    "    return x1,iteration\n",
    "\n",
    "dict2={0:{0,1,2}, 1:{0,1}, 2:{2}}\n",
    "print(power_iteration_somme(dict2,0.85,1e-10))\n",
    "\n",
    "#Valeur exacte\n",
    "e=np.ones(len(dict2))\n",
    "P=np.array([[1/3,1/3,1/3],[1/2,1/2,0],[0,0,1]])\n",
    "A=np.transpose((np.identity(3)-alpha*P))\n",
    "B=((1-alpha)/len(dict2))*np.transpose(e)\n",
    "pi=np.linalg.solve(A,B)\n",
    "print(\"valeur exacte\",pi)\n"
   ],
   "outputs": [
    {
     "output_type": "stream",
     "name": "stdout",
     "text": [
      "(array([0.17142857, 0.17142857, 0.65714286]), 136)\n",
      "valeur exacte [0.17142857 0.17142857 0.65714286]\n"
     ]
    }
   ],
   "metadata": {}
  },
  {
   "cell_type": "code",
   "execution_count": 586,
   "source": [
    "def power_iteration_somme_perso(dict1,alpha,epsilon,liste):\n",
    "    nb_sommet=len(dict1)\n",
    "\n",
    "    #creation y\n",
    "    y=np.zeros(nb_sommet)\n",
    "    for i in liste:\n",
    "        y[i]=1\n",
    "    x1=y/len(liste)\n",
    "    y=(1-alpha)*y/len(liste)\n",
    "    x0=np.zeros(nb_sommet)\n",
    "    iteration=0\n",
    "    while(np.linalg.norm(x1-x0)>epsilon): \n",
    "        iteration=iteration+1\n",
    "        x0=np.copy(x1)\n",
    "        for cles in dict1:\n",
    "            somme=0\n",
    "            for cles2 in dict1: \n",
    "                if cles in dict1[cles2]:\n",
    "                    somme=somme+(x0[cles2]/len(dict1[cles2]))\n",
    "            x1[cles]=(alpha*somme)+y[cles]\n",
    "    return x1,iteration\n",
    "dict2={0:{0,1,2}, 1:{0,1}, 2:{2}}\n",
    "liste=[1]\n",
    "print(power_iteration_somme_perso(dict2,0.85,1e-10,liste))\n",
    "\n",
    "#Valeur exacte\n",
    "e=[0,1,0]\n",
    "P=np.array([[1/3,1/3,1/3],[1/2,1/2,0],[0,0,1]])\n",
    "A=np.transpose((np.identity(3)-alpha*P))\n",
    "B=(1-alpha)*np.transpose(e)\n",
    "pi=np.linalg.solve(A,B)\n",
    "print(\"valeur exacte\",pi)"
   ],
   "outputs": [
    {
     "output_type": "stream",
     "name": "stdout",
     "text": [
      "(array([0.21857143, 0.36857143, 0.41285714]), 64)\n",
      "valeur exacte [0.21857143 0.36857143 0.41285714]\n"
     ]
    }
   ],
   "metadata": {}
  },
  {
   "cell_type": "code",
   "execution_count": 491,
   "source": [
    "#Power iteration avec matrice\n",
    "def creation_p(dict2): # conversion de notre dictionnaire à la matrice de transition\n",
    "    nb_sommet=len(dict2)\n",
    "    P=np.zeros((nb_sommet,nb_sommet))\n",
    "    for cle in dict2:\n",
    "        for sommet in dict2[cle]:\n",
    "            P[cle,sommet]=1/len(dict2[cle])\n",
    "    return P\n",
    "\n",
    "def power_iteration_matrice(dict2,pi,alpha): # calcul de la valeur du page rank de manière matricielle\n",
    "    nb_sommet=len(dict2)\n",
    "    P=creation_p(dict2)\n",
    "    constante=((1-alpha)/nb_sommet)*np.ones(nb_sommet)\n",
    "    return alpha*np.dot(pi,P)+constante\n",
    "\n",
    "#Test:\n",
    "dict2={0:{1,2}, 1:{2}, 2:{0}}\n",
    "tab=np.ones(len(dict2))/len(dict2)\n",
    "pi_0=np.ones((1,len(dict2)))/len(dict2)\n",
    "alpha=0.85\n",
    "\n",
    "#Erreur\n",
    "page_rank_2=power_iteration_matrice(dict2,pi_0,alpha)\n",
    "iteration2=1\n",
    "\n",
    "epsilon=0.00000000000001\n",
    "while(np.linalg.norm(page_rank_2-pi_0)>epsilon): \n",
    "    iteration2=iteration2+1\n",
    "    pi_0=page_rank_2\n",
    "    page_rank_2=power_iteration_matrice(dict2,pi_0,alpha)\n",
    "\n",
    "print(page_rank_2)\n",
    "print(iteration2)\n"
   ],
   "outputs": [
    {
     "output_type": "stream",
     "name": "stdout",
     "text": [
      "[[0.38778971 0.21481063 0.39739966]]\n",
      "62\n"
     ]
    }
   ],
   "metadata": {}
  },
  {
   "cell_type": "code",
   "execution_count": 492,
   "source": [
    "def power_iteration_matrice_erreur(dict2,alpha,epsilon): # calcul de la valeur du page rank de manière matricielle avec erreur epsilon\n",
    "    nb_sommet=len(dict2)\n",
    "    P=creation_p(dict2)\n",
    "    e=np.array([(1-alpha)/nb_sommet]*nb_sommet)\n",
    "    pi_avant=np.array(e)\n",
    "    pi=[0]*nb_sommet\n",
    "    iteration=0\n",
    "    while(np.linalg.norm(pi-pi_avant)>epsilon):\n",
    "        pi_avant=pi\n",
    "        pi=alpha*np.dot(pi_avant,P)+e\n",
    "        iteration=iteration+1\n",
    "    return pi,iteration\n",
    "\n",
    "#Test:\n",
    "dict2={0:{0,1,2}, 1:{1,2}, 2:{0,2}}\n",
    "print(power_iteration_matrice_erreur(dict2,alpha,1e-10))"
   ],
   "outputs": [
    {
     "output_type": "stream",
     "name": "stdout",
     "text": [
      "(array([0.32421561, 0.24671494, 0.42906946]), 128)\n"
     ]
    }
   ],
   "metadata": {}
  },
  {
   "cell_type": "code",
   "execution_count": 526,
   "source": [
    "\"\"\"#Power iteration avec sparse\n",
    "def dict_sparse(dict2):\n",
    "    data=[]\n",
    "    row_ind=[]\n",
    "    col_ind=[]\n",
    "    for cle in dict2:\n",
    "        for sommet in dict2[cle]:\n",
    "            data.append(1/len(dict2[cle]))\n",
    "            row_ind.append(cle)\n",
    "            col_ind.append(sommet)\n",
    "    return scipy.sparse.csr_matrix((data,(row_ind,col_ind)),shape=(len(dict2),len(dict2)))\n",
    "\n",
    "def dict_sparse2(dict2):\n",
    "    data=[]\n",
    "    row_ind=[]\n",
    "    col_ind=[]\n",
    "    for cle in dict2:\n",
    "        for sommet in dict2[cle]:\n",
    "            row_ind.append(cle)\n",
    "            col_ind.append(sommet)\n",
    "    return row_ind,col_ind\n",
    "\n",
    "P_sparse=dict_sparse(dict2)\n",
    "print(type(P_sparse))\n",
    "print(P_sparse)\n",
    "\n",
    "def power_iteration_sparse(dict2,pi,alpha):\n",
    "    nb_sommet=len(dict2)\n",
    "    P=dict_sparse(dict2)\n",
    "    constante=((1-alpha)/nb_sommet)*np.ones(nb_sommet)\n",
    "    P_t=P.transpose()\n",
    "    pi_t=pi.transpose()\n",
    "    return (alpha*P_t.dot(pi_t)).transpose()+constante\n",
    "\n",
    "def power_iteration_sparse2(row,col,pi,alpha,n):\n",
    "    valeurs=[1]*len(row)\n",
    "    P=scipy.sparse.csr_matrix((valeurs,(row,col)))\n",
    "    constante=((1-alpha)/n)*np.ones(n)\n",
    "    P_t=P.transpose()\n",
    "    pi_t=pi.transpose()\n",
    "    return (alpha*P_t.dot(pi_t)).transpose()+constante\n",
    "\n",
    "\n",
    "#Test:\n",
    "dict2={0:{1,2}, 1:{2}, 2:{0}}\n",
    "pi_0=np.ones((1,len(dict2)))/len(dict2)\n",
    "alpha=0.85\n",
    "row_ind,col_ind=dict_sparse2(dict2)\n",
    "\n",
    "#Erreur\n",
    "page_rank_2=power_iteration_sparse2(row_ind,col_ind,pi_0,alpha,3)\n",
    "iteration2=1\n",
    "\n",
    "epsilon=0.00000000000001\n",
    "while(np.linalg.norm(page_rank_2-pi_0)>epsilon): \n",
    "    iteration2=iteration2+1\n",
    "    pi_0=page_rank_2\n",
    "    page_rank_2=power_iteration_sparse2(row_ind,col_ind,pi_0,alpha,3)\n",
    "\n",
    "\"\"\""
   ],
   "outputs": [
    {
     "output_type": "error",
     "ename": "SyntaxError",
     "evalue": "invalid syntax (3360201666.py, line 60)",
     "traceback": [
      "\u001b[0;36m  Input \u001b[0;32mIn [526]\u001b[0;36m\u001b[0m\n\u001b[0;31m    \"\"\"ower_iteration_sparse2(row_ind,col_ind,pi_0,alpha,3)\u001b[0m\n\u001b[0m       ^\u001b[0m\n\u001b[0;31mSyntaxError\u001b[0m\u001b[0;31m:\u001b[0m invalid syntax\n"
     ]
    }
   ],
   "metadata": {}
  },
  {
   "cell_type": "code",
   "execution_count": 531,
   "source": [
    "def reader_lists(fileName):\n",
    "\twith open(fileName, 'r') as csvfile:\n",
    "\t\trows = []\n",
    "\t\tcols = []\n",
    "\t\tedgelist = csv.reader(csvfile, delimiter=' ')\n",
    "\t\tfor line in edgelist:\n",
    "\t\t\trows.append( int(line[0]) )\n",
    "\t\t\tcols.append( int(line[1]) )\n",
    "\n",
    "\t\treturn rows, cols\n",
    "\t\n",
    "\n",
    "def pagerank_sparse(rows, cols, alpha, epsilon):\n",
    "\tsize = max(max(rows), max(cols)) + 1\n",
    "\tA = sps.csr_matrix(([1]*len(rows), (rows, cols)), shape=(size,size))\n",
    "\tA = A + sps.eye(size)\n",
    "\tD = A.dot([1]*size)\n",
    "\tDinv = sps.diags([np.reciprocal(D)], [0])\n",
    "\tP = Dinv.dot(A)\n",
    "\t\n",
    "\te=np.array([(1-alpha)/size]*size)\n",
    "\tpi_avant=np.array(e)\n",
    "\tpi=[0]*size\n",
    "\tPt=P.transpose()\n",
    "\n",
    "\twhile(np.linalg.norm(pi-pi_avant)>epsilon):\n",
    "\t\tpi_avant=pi\n",
    "\t\tpi=alpha*(Pt.dot(pi_avant))+e\n",
    "\treturn pi\n",
    "\n",
    "\n",
    "dict2={0:{1,2}, 1:{0}, 2:{}} \n",
    "rows,cols=dict_sparse2(dict2)\n",
    "pi_0=np.ones((1,max(max(rows), max(cols)) + 1))/(max(max(rows), max(cols)) + 1)\n",
    "page_rank=pagerank_sparse(rows,cols,0.85,1e-10)\n",
    "print(page_rank)\n",
    "\n"
   ],
   "outputs": [
    {
     "output_type": "stream",
     "name": "stdout",
     "text": [
      "[0.17142857 0.17142857 0.65714286]\n"
     ]
    }
   ],
   "metadata": {}
  },
  {
   "cell_type": "code",
   "execution_count": 532,
   "source": [
    "def pagerank_sparse_perso(rows, cols, alpha, epsilon,liste):\n",
    "\tsize = max(max(rows), max(cols)) + 1\n",
    "\tA = sps.csr_matrix(([1]*len(rows), (rows, cols)), shape=(size,size))\n",
    "\tA = A + sps.eye(size)\n",
    "\tD = A.dot([1]*size)\n",
    "\tDinv = sps.diags([np.reciprocal(D)], [0])\n",
    "\tP = Dinv.dot(A)\n",
    "\n",
    "\t#creation de y\n",
    "\ty=np.zeros(size)\n",
    "\tfor i in liste:\n",
    "\t\ty[i]=1\n",
    "\tpi=np.array(y)\n",
    "\ty=(1-alpha)*y/len(liste)\n",
    "\tpi_avant=[0]*size\n",
    "\tPt=P.transpose()\n",
    "\titeration=0\n",
    "\twhile(np.linalg.norm(pi-pi_avant)>epsilon):\n",
    "\t\tpi_avant=pi\n",
    "\t\tpi=alpha*(Pt.dot(pi_avant))+y\n",
    "\t\titeration=iteration+1\n",
    "\treturn pi,iteration\n",
    "\n",
    "rows=[0,0,1]\n",
    "cols=[1,2,0]\n",
    "liste=[1]\n",
    "print(pagerank_sparse_perso(rows,cols,0.85,1e-10,liste))"
   ],
   "outputs": [
    {
     "output_type": "stream",
     "name": "stdout",
     "text": [
      "(array([0.21857143, 0.36857143, 0.41285714]), 64)\n"
     ]
    }
   ],
   "metadata": {}
  },
  {
   "cell_type": "code",
   "execution_count": 593,
   "source": [
    "#Fonction qui calcule la valeur exacte du page rank en prenant en entrée tableau de lignes et de colonnes \n",
    "def exact_pr(rows, cols, alpha):\n",
    "\tsize = max(max(rows), max(cols)) + 1\n",
    "\tA = sps.csr_matrix(([1]*len(rows), (rows, cols)), shape=(size,size))\n",
    "\tA = A + sps.eye(size)\n",
    "\tD = A.dot([1]*size)\n",
    "\tDinv = sps.diags([np.reciprocal(D)], [0])\n",
    "\tP = Dinv.dot( A ).transpose()\n",
    "\te = [1/size]*size\n",
    "\tM = sps.eye(size) - alpha*P\n",
    "\tpr_exact = spl.spsolve(M, e)\n",
    "\treturn pr_exact\n",
    "\n",
    "def dico_construction(rows,cols):\n",
    "\tsize = len(rows)\n",
    "\tdico = dict()\n",
    "\tfor i in range(size):\n",
    "\t\tif rows[i] not in dico: dico[rows[i]] = set([rows[i]])\t\n",
    "\t\tif cols[i] not in dico: dico[cols[i]] = set([cols[i]])\n",
    "\t\tdico[rows[i]].add( cols[i] )\n",
    "\treturn dico\n",
    "\t\n",
    "#Forward push avec dictionnaire en entrée\n",
    "def forward_push(dico, alpha, epsilon):\n",
    "\tsize = len(dico)\n",
    "\tr = np.array([(1-alpha)/size]*size)\n",
    "\tp = np.zeros(size)\n",
    "\tcounter = 0\n",
    "\twhile max( r ) > epsilon : \n",
    "\t\tu = np.argmax( r )\n",
    "\t\tx = r[u]\n",
    "\t\tp[u] += x\n",
    "\t\tr[u] -= x\n",
    "\t\t\n",
    "\t\tvoisins = dico[u]\n",
    "\t\tnum_voisins = len(voisins)\n",
    "\t\tfor i in voisins:\n",
    "\t\t\tr[i] += alpha*x/num_voisins\t\t\n",
    "\treturn p\n",
    "\n",
    "rows=[0,0,1]\n",
    "cols=[1,2,0]\n",
    "dico=dico_construction(rows,cols)\n",
    "print(dico)\n",
    "print(forward_push(dico,0.85,1e-10))"
   ],
   "outputs": [
    {
     "output_type": "stream",
     "name": "stdout",
     "text": [
      "{0: {0, 1, 2}, 1: {0, 1}, 2: {2}}\n",
      "[0.17142857 0.17142857 0.65714286]\n"
     ]
    }
   ],
   "metadata": {}
  },
  {
   "cell_type": "code",
   "execution_count": 596,
   "source": [
    "#Forward push avec dictionnaire en entrée page rank perso\n",
    "def forward_push_perso(dico, alpha, epsilon,liste):\n",
    "\tsize = len(dico)\n",
    "\t#creation y\n",
    "\ty=np.zeros(size)\n",
    "\tfor i in liste:\n",
    "\t\ty[i]=1\n",
    "\tr = y*(1-alpha)/len(liste) # ici r c'est y*(1-alpha)\n",
    "\tp = np.zeros(size)\n",
    "\tcounter = 0\n",
    "\twhile max( r ) > epsilon : \n",
    "\t\tu = np.argmax( r )\n",
    "\t\tx = r[u]\n",
    "\t\tp[u] += x\n",
    "\t\tr[u] -= x\n",
    "\t\t\n",
    "\t\tvoisins = dico[u]\n",
    "\t\tnum_voisins = len(voisins)\n",
    "\t\tfor i in voisins:\n",
    "\t\t\tr[i] += alpha*x/num_voisins\t\t\n",
    "\treturn p\n",
    "\n",
    "rows=[0,0,1]\n",
    "cols=[1,2,0]\n",
    "dico=dico_construction(rows,cols)\n",
    "liste=[1]\n",
    "print(dico)\n",
    "print(forward_push_perso(dico,0.85,1e-10,liste))"
   ],
   "outputs": [
    {
     "output_type": "stream",
     "name": "stdout",
     "text": [
      "{0: {0, 1, 2}, 1: {0, 1}, 2: {2}}\n",
      "[0.21857143 0.36857143 0.41285714]\n"
     ]
    }
   ],
   "metadata": {}
  },
  {
   "cell_type": "code",
   "execution_count": 599,
   "source": [
    "def pr_power_iteration_somme(dico,alpha,epsilon,perso,liste=[]):\n",
    "    nb_sommet=len(dico)\n",
    "    if perso:\n",
    "        y=np.zeros(nb_sommet)\n",
    "        for i in liste:\n",
    "            y[i]=1\n",
    "        x1=y/len(liste)\n",
    "        y=(1-alpha)*y/len(liste)\n",
    "    else:\n",
    "        y=(np.ones(nb_sommet))*(1-alpha)/nb_sommet\n",
    "        x1=np.ones(nb_sommet)\n",
    "    x0=np.zeros(nb_sommet)\n",
    "    iteration=0\n",
    "    while(np.linalg.norm(x1-x0)>epsilon):\n",
    "        x0=np.copy(x1)\n",
    "        for cles in dico:\n",
    "            somme=0\n",
    "            for cles2 in dico:\n",
    "                if cles in dico[cles2]:\n",
    "                    somme=somme+(x0[cles2]/len(dico[cles2]))\n",
    "            x1[cles]=(alpha*somme)+y[cles]\n",
    "    return x1\n",
    "\n",
    "dico={0:{0,1,2}, 1:{0,1}, 2:{2}}\n",
    "liste=[1]\n",
    "\n",
    "print(\"perso\",pr_power_iteration_somme(dico,0.85,1e-10,True,liste))\n",
    "print(\"normale\",pr_power_iteration_somme(dico,0.85,1e-10,False))"
   ],
   "outputs": [
    {
     "output_type": "stream",
     "name": "stdout",
     "text": [
      "perso [0.21857143 0.36857143 0.41285714]\n",
      "normale [0.17142857 0.17142857 0.65714286]\n"
     ]
    }
   ],
   "metadata": {}
  },
  {
   "cell_type": "code",
   "execution_count": 592,
   "source": [
    "def pr_power_iteration_sparse(rows,cols, alpha, epsilon,perso,liste=[]):\n",
    "\n",
    "    size=max(max(rows),max(cols))+1\n",
    "    A=sps.csr_matrix(([1]*len(rows),(rows,cols)),shape=(size,size))\n",
    "    A=A+sps.eye(size)\n",
    "    D=A.dot([1]*size)\n",
    "    Dinv=sps.diags([np.reciprocal(D)],[0])\n",
    "    P=Dinv.dot(A)\n",
    "\n",
    "\n",
    "    #creation de y  \n",
    "    if perso:\n",
    "        y=np.zeros(size)\n",
    "        for i in liste:\n",
    "            y[i]=1\n",
    "        pi=np.array(y)\n",
    "        y=(1-alpha)*y/len(liste) \n",
    "        pi_avant=[0]*size \n",
    "    \n",
    "    else:\n",
    "        y=np.array([(1-alpha)/size]*size)\n",
    "        pi=[0]*size\n",
    "        pi_avant=np.array(y)\n",
    "\n",
    "    #Calcul du P transpose\n",
    "    Pt=P.transpose()\n",
    "\n",
    "\n",
    "    #Calcul du page rank\n",
    "    while(np.linalg.norm(pi-pi_avant)>epsilon):\n",
    "        pi_avant=pi\n",
    "        pi=alpha*(Pt.dot(pi_avant))+y\n",
    "    \n",
    "    return pi\n",
    "\n",
    "rows=[0,0,1]\n",
    "cols=[1,2,0]\n",
    "liste=[1]\n",
    "\n",
    "print(\"perso\",pr_power_iteration_sparse(rows,cols,0.85,1e-10,True,liste))\n",
    "print(\"normale\",pr_power_iteration_sparse(rows,cols,0.85,1e-10,False))"
   ],
   "outputs": [
    {
     "output_type": "stream",
     "name": "stdout",
     "text": [
      "perso [0.21857143 0.36857143 0.41285714]\n",
      "normale [0.17142857 0.17142857 0.65714286]\n"
     ]
    }
   ],
   "metadata": {}
  },
  {
   "cell_type": "code",
   "execution_count": 600,
   "source": [
    "def pr_forward_push(dico,alpha,epsilon,perso,liste=[]):\n",
    "    size=len(dico)\n",
    "\n",
    "    #creation de y\n",
    "    if perso:\n",
    "        y=np.zeros(size)\n",
    "        for i in liste:\n",
    "            y[i]=1\n",
    "        r=y*(1-alpha)/len(liste)\n",
    "\n",
    "    else:\n",
    "        r=np.array([(1-alpha)/size]*size)\n",
    "\n",
    "\n",
    "    #calcul du page rank\n",
    "    p=np.zeros(size)\n",
    "\n",
    "\n",
    "    while max(r)>epsilon:\n",
    "        u=np.argmax(r)\n",
    "        x=r[u]\n",
    "        p[u]+=x\n",
    "        r[u]-=x\n",
    "\n",
    "        voisins=dico[u]\n",
    "        num_voisins=len(voisins)\n",
    "\n",
    "        for i in voisins:\n",
    "            r[i]+=alpha*x/num_voisins\n",
    "\n",
    "    return p\n",
    "\n",
    "dico={0:{0,1,2}, 1:{0,1}, 2:{2}}\n",
    "liste=[1]\n",
    "print(\"perso\",pr_forward_push(dico,0.85,1e-10,True,liste))\n",
    "print(\"normale\",pr_forward_push(dico,0.85,1e-10,False))"
   ],
   "outputs": [
    {
     "output_type": "stream",
     "name": "stdout",
     "text": [
      "perso [0.21857143 0.36857143 0.41285714]\n",
      "normale [0.17142857 0.17142857 0.65714286]\n"
     ]
    }
   ],
   "metadata": {}
  }
 ],
 "metadata": {
  "orig_nbformat": 4,
  "language_info": {
   "name": "python",
   "version": "3.9.10",
   "mimetype": "text/x-python",
   "codemirror_mode": {
    "name": "ipython",
    "version": 3
   },
   "pygments_lexer": "ipython3",
   "nbconvert_exporter": "python",
   "file_extension": ".py"
  },
  "kernelspec": {
   "name": "python3",
   "display_name": "Python 3.9.10 64-bit"
  },
  "interpreter": {
   "hash": "b0fa6594d8f4cbf19f97940f81e996739fb7646882a419484c72d19e05852a7e"
  }
 },
 "nbformat": 4,
 "nbformat_minor": 2
}