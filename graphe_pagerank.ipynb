{
 "cells": [
  {
   "cell_type": "code",
   "execution_count": 338,
   "source": [
    "import numpy as np\n",
    "import matplotlib.pyplot as plt\n",
    "import wikipediaapi\n",
    "import scipy.sparse as sps\n",
    "import seaborn\n",
    "import csv"
   ],
   "outputs": [],
   "metadata": {}
  },
  {
   "cell_type": "code",
   "execution_count": 339,
   "source": [
    "# Power iteration avec la somme\n",
    "def power_iteration(dict1,tab,alpha): # fonction qui va calculer la valeur d'une page rank une par une\n",
    "    nb_sommet=len(dict1)\n",
    "    page_rank_final=np.zeros(nb_sommet) # tableau avec les nouvelles valeurs de page rank\n",
    "    constante=(1-alpha)/nb_sommet\n",
    "\n",
    "    for cles in dict1: # parcours de tous les sommets de notre graphe\n",
    "        #print(\"cles\",cles)\n",
    "        somme=0\n",
    "        for cles2 in dict1: # on parcours tous les sommets de notre graphe\n",
    "            if cles in dict1[cles2]: # si un sommet de notre premier parcours se trouve dans l'ensemble on va l'ajouter avec la formule\n",
    "                #print(\"sommet\",cles2)\n",
    "                somme=somme+(tab[cles2]/len(dict1[cles2]))  \n",
    "                #print(\"valeur du page rank\",tab[cles2-1])\n",
    "                #print(\"nombre d'arcs sortants\",len(dict1[cles2]))\n",
    "        page_rank_final[cles]=alpha*somme+constante\n",
    "    return page_rank_final\n",
    "\n",
    "\n",
    "#Test:\n",
    "dict2={0:{1,2}, 1:{2}, 2:{0}}\n",
    "tab=np.ones(len(dict2))/len(dict2)\n",
    "alpha=0.85\n",
    "epsilon=0.00000000000001\n",
    "#print(len(dict2))\n",
    "\n",
    "#Valeur exacte\n",
    "constante_exacte=(1-alpha/len(dict2))\n",
    "page_rank_exacte=np.ones(len(dict2))\n",
    "e=np.ones(len(dict2))\n",
    "P=np.array([[1/3,1/3,1/3],[0,1/2,1/2],[1/2,0,1/2]])\n",
    "A=np.transpose((np.identity(3)-alpha*P))\n",
    "B=((1-alpha)/len(dict2))*np.transpose(e)\n",
    "pi=np.linalg.solve(A,B)\n",
    "print(\"valeur exacte\",pi)\n",
    "\n",
    "#Erreur\n",
    "page_rank_1=power_iteration(dict2,tab,alpha)\n",
    "iteration=1\n",
    "E=[]\n",
    "E.append(np.linalg.norm(pi-page_rank_1))\n",
    "\n",
    "epsilon=0.000000000000001\n",
    "while(np.linalg.norm(page_rank_1-tab)>epsilon):    \n",
    "    E.append(np.linalg.norm(pi-page_rank_1))\n",
    "    iteration=iteration+1\n",
    "    tab=page_rank_1\n",
    "    page_rank_1=power_iteration(dict2,tab,alpha)\n",
    "\n",
    "print(\"valeur approchée\",page_rank_1)\n",
    "#print(iteration)\n",
    "#print(dict2)\n",
    "erreur=np.array(E)\n",
    "nb_iteration=np.arange(0,iteration,1)\n",
    "\n",
    "plt.figure(figsize=[10,8])\n",
    "plt.plot(nb_iteration,erreur,label=\"Erreur\")\n",
    "plt.legend()\n",
    "plt.show()"
   ],
   "outputs": [
    {
     "output_type": "stream",
     "name": "stdout",
     "text": [
      "valeur exacte [0.32421561 0.24671494 0.42906946]\n",
      "valeur approchée [0.38778971 0.21481063 0.39739966]\n"
     ]
    },
    {
     "output_type": "display_data",
     "data": {
      "image/png": "[encoded data removed]",
      "text/plain": [
       "<Figure size 720x576 with 1 Axes>"
      ]
     },
     "metadata": {
      "needs_background": "light"
     }
    }
   ],
   "metadata": {}
  },
  {
   "cell_type": "code",
   "execution_count": 340,
   "source": [
    "\"\"\"def power_iteration_erreur(dict1,tab,alpha,epsilon): # fonction qui va calculer la valeur d'une page rank une par une\n",
    "    nb_sommet=len(dict1)\n",
    "    page_rank=np.zeros(nb_sommet) # tableau avec les nouvelles valeurs de page rank\n",
    "    constante=(1-alpha)/nb_sommet\n",
    "    page_rank_temp=np.zeros(nb_sommet)\n",
    "    iteration=0\n",
    "    while(np.linalg.norm(tab-page_rank_temp)>epsilon): \n",
    "        iteration=iteration+1\n",
    "        print(iteration)\n",
    "        print(\"tab avant affectation\",tab)\n",
    "        print(\"page_rank_temp avant affectation\",page_rank_temp)\n",
    "        page_rank_temp=tab\n",
    "        print(\"page_rank_temp apres affectation\",page_rank_temp)\n",
    "        for cles in dict1: # parcours de tous les sommets de notre graphe\n",
    "            somme=0\n",
    "            for cles2 in dict1: # on parcours tous les sommets de notre graphe\n",
    "                if cles in dict1[cles2]: # si un sommet de notre premier parcours se trouve dans l'ensemble on va l'ajouter avec la formule\n",
    "                    somme=somme+(tab[cles2]/len(dict1[cles2]))\n",
    "            page_rank[cles]=alpha*somme+constante\n",
    "        tab=page_rank\n",
    "        print(\"nouvelle page_rank\",page_rank)\n",
    "        print(\"tab apres affectation\",tab)\n",
    "        print(\"page_rank_temp\",page_rank_temp)\n",
    "    return tab,iteration\n",
    "\n",
    "#Test:\n",
    "dict2={0:{1,2}, 1:{2}, 2:{0}}\n",
    "tab=np.ones(len(dict2))/len(dict2)\n",
    "alpha=0.85\n",
    "epsilon=0.00000000000001\n",
    "\n",
    "print(power_iteration_erreur(dict2,tab,alpha,epsilon))\"\"\""
   ],
   "outputs": [
    {
     "output_type": "execute_result",
     "data": {
      "text/plain": [
       "'def power_iteration_erreur(dict1,tab,alpha,epsilon): # fonction qui va calculer la valeur d\\'une page rank une par une\\n    nb_sommet=len(dict1)\\n    page_rank=np.zeros(nb_sommet) # tableau avec les nouvelles valeurs de page rank\\n    constante=(1-alpha)/nb_sommet\\n    page_rank_temp=np.zeros(nb_sommet)\\n    iteration=0\\n    while(np.linalg.norm(tab-page_rank_temp)>epsilon): \\n        iteration=iteration+1\\n        print(iteration)\\n        print(\"tab avant affectation\",tab)\\n        print(\"page_rank_temp avant affectation\",page_rank_temp)\\n        page_rank_temp=tab\\n        print(\"page_rank_temp apres affectation\",page_rank_temp)\\n        for cles in dict1: # parcours de tous les sommets de notre graphe\\n            somme=0\\n            for cles2 in dict1: # on parcours tous les sommets de notre graphe\\n                if cles in dict1[cles2]: # si un sommet de notre premier parcours se trouve dans l\\'ensemble on va l\\'ajouter avec la formule\\n                    somme=somme+(tab[cles2]/len(dict1[cles2]))\\n            page_rank[cles]=alpha*somme+constante\\n        tab=page_rank\\n        print(\"nouvelle page_rank\",page_rank)\\n        print(\"tab apres affectation\",tab)\\n        print(\"page_rank_temp\",page_rank_temp)\\n    return tab,iteration\\n\\n#Test:\\ndict2={0:{1,2}, 1:{2}, 2:{0}}\\ntab=np.ones(len(dict2))/len(dict2)\\nalpha=0.85\\nepsilon=0.00000000000001\\n\\nprint(power_iteration_erreur(dict2,tab,alpha,epsilon))'"
      ]
     },
     "metadata": {},
     "execution_count": 340
    }
   ],
   "metadata": {}
  },
  {
   "cell_type": "code",
   "execution_count": 341,
   "source": [
    "#Power iteration avec matrice\n",
    "def creation_p(dict2): # conversion de notre dictionnaire à la matrice de transition\n",
    "    nb_sommet=len(dict2)\n",
    "    P=np.zeros((nb_sommet,nb_sommet))\n",
    "    for cle in dict2:\n",
    "        for sommet in dict2[cle]:\n",
    "            P[cle,sommet]=1/len(dict2[cle])\n",
    "    return P\n",
    "\n",
    "def power_iteration_matrice(dict2,pi,alpha): # calcul de la valeur du page rank de manière matricielle\n",
    "    nb_sommet=len(dict2)\n",
    "    P=creation_p(dict2)\n",
    "    constante=((1-alpha)/nb_sommet)*np.ones(nb_sommet)\n",
    "    return alpha*np.dot(pi,P)+constante\n",
    "\n",
    "#Test:\n",
    "dict2={0:{1,2}, 1:{2}, 2:{0}}\n",
    "tab=np.ones(len(dict2))/len(dict2)\n",
    "pi_0=np.ones((1,len(dict2)))/len(dict2)\n",
    "alpha=0.85\n",
    "\n",
    "#Erreur\n",
    "page_rank_2=power_iteration_matrice(dict2,pi_0,alpha)\n",
    "iteration2=1\n",
    "\n",
    "epsilon=0.00000000000001\n",
    "while(np.linalg.norm(page_rank_2-pi_0)>epsilon): \n",
    "    iteration2=iteration2+1\n",
    "    pi_0=page_rank_2\n",
    "    page_rank_2=power_iteration_matrice(dict2,pi_0,alpha)\n",
    "\n",
    "print(page_rank_2)\n",
    "print(iteration2)\n"
   ],
   "outputs": [
    {
     "output_type": "stream",
     "name": "stdout",
     "text": [
      "[[0.38778971 0.21481063 0.39739966]]\n",
      "62\n"
     ]
    }
   ],
   "metadata": {}
  },
  {
   "cell_type": "code",
   "execution_count": 344,
   "source": [
    "def power_iteration_matrice_erreur(dict2,alpha,epsilon): # calcul de la valeur du page rank de manière matricielle avec erreur epsilon\n",
    "    nb_sommet=len(dict2)\n",
    "    P=creation_p(dict2)\n",
    "    e=np.array([(1-alpha)/nb_sommet]*nb_sommet)\n",
    "    pi_avant=np.array(e)\n",
    "    pi=[0]*nb_sommet\n",
    "    while(np.linalg.norm(pi-pi_avant)>epsilon):\n",
    "        pi_avant=pi\n",
    "        pi=alpha*np.dot(pi_avant,P)+e\n",
    "    return pi\n",
    "\n",
    "#Test:\n",
    "dict2={0:{0,1,2}, 1:{1,2}, 2:{0,2}}\n",
    "print(power_iteration_matrice_erreur(dict2,pi_0,alpha,epsilon))"
   ],
   "outputs": [
    {
     "output_type": "stream",
     "name": "stdout",
     "text": [
      "[0.32421561 0.24671494 0.42906946]\n"
     ]
    }
   ],
   "metadata": {}
  },
  {
   "cell_type": "code",
   "execution_count": 345,
   "source": [
    "#Power iteration avec sparse\n",
    "def dict_sparse(dict2):\n",
    "    data=[]\n",
    "    row_ind=[]\n",
    "    col_ind=[]\n",
    "    for cle in dict2:\n",
    "        for sommet in dict2[cle]:\n",
    "            data.append(1/len(dict2[cle]))\n",
    "            row_ind.append(cle)\n",
    "            col_ind.append(sommet)\n",
    "    return scipy.sparse.csr_matrix((data,(row_ind,col_ind)),shape=(len(dict2),len(dict2)))\n",
    "\n",
    "def dict_sparse2(dict2):\n",
    "    data=[]\n",
    "    row_ind=[]\n",
    "    col_ind=[]\n",
    "    for cle in dict2:\n",
    "        for sommet in dict2[cle]:\n",
    "            row_ind.append(cle)\n",
    "            col_ind.append(sommet)\n",
    "    return row_ind,col_ind\n",
    "\n",
    "P_sparse=dict_sparse(dict2)\n",
    "print(type(P_sparse))\n",
    "print(P_sparse)\n",
    "\n",
    "def power_iteration_sparse(dict2,pi,alpha):\n",
    "    nb_sommet=len(dict2)\n",
    "    P=dict_sparse(dict2)\n",
    "    constante=((1-alpha)/nb_sommet)*np.ones(nb_sommet)\n",
    "    P_t=P.transpose()\n",
    "    pi_t=pi.transpose()\n",
    "    return (alpha*P_t.dot(pi_t)).transpose()+constante\n",
    "\n",
    "def power_iteration_sparse2(row,col,pi,alpha,n):\n",
    "    valeurs=[1]*len(row)\n",
    "    P=scipy.sparse.csr_matrix((valeurs,(row,col)))\n",
    "    constante=((1-alpha)/n)*np.ones(n)\n",
    "    P_t=P.transpose()\n",
    "    pi_t=pi.transpose()\n",
    "    return (alpha*P_t.dot(pi_t)).transpose()+constante\n",
    "\n",
    "\n",
    "#Test:\n",
    "dict2={0:{1,2}, 1:{2}, 2:{0}}\n",
    "pi_0=np.ones((1,len(dict2)))/len(dict2)\n",
    "alpha=0.85\n",
    "row_ind,col_ind=dict_sparse2(dict2)\n",
    "\n",
    "#Erreur\n",
    "page_rank_2=power_iteration_sparse2(row_ind,col_ind,pi_0,alpha,3)\n",
    "iteration2=1\n",
    "\n",
    "epsilon=0.00000000000001\n",
    "while(np.linalg.norm(page_rank_2-pi_0)>epsilon): \n",
    "    iteration2=iteration2+1\n",
    "    pi_0=page_rank_2\n",
    "    page_rank_2=power_iteration_sparse2(row_ind,col_ind,pi_0,alpha,3)\n",
    "\n",
    "print(page_rank_2)\n",
    "print(iteration2)"
   ],
   "outputs": [
    {
     "output_type": "stream",
     "name": "stdout",
     "text": [
      "<class 'scipy.sparse._csr.csr_matrix'>\n",
      "  (0, 0)\t0.3333333333333333\n",
      "  (0, 1)\t0.3333333333333333\n",
      "  (0, 2)\t0.3333333333333333\n",
      "  (1, 1)\t0.5\n",
      "  (1, 2)\t0.5\n",
      "  (2, 0)\t0.5\n",
      "  (2, 2)\t0.5\n",
      "[[            inf 9.92659702e+307             inf]]\n",
      "5981\n"
     ]
    },
    {
     "output_type": "stream",
     "name": "stderr",
     "text": [
      "/var/folders/5q/thc123cx2kz4n0kl6ls0hjmw0000gn/T/ipykernel_26781/925011685.py:55: RuntimeWarning: invalid value encountered in subtract\n",
      "  while(np.linalg.norm(page_rank_2-pi_0)>epsilon):\n"
     ]
    }
   ],
   "metadata": {}
  },
  {
   "cell_type": "code",
   "execution_count": 353,
   "source": [
    "def reader_lists(fileName):\n",
    "\twith open(fileName, 'r') as csvfile:\n",
    "\t\trows = []\n",
    "\t\tcols = []\n",
    "\t\tedgelist = csv.reader(csvfile, delimiter=' ')\n",
    "\t\tfor line in edgelist:\n",
    "\t\t\trows.append( int(line[0]) )\n",
    "\t\t\tcols.append( int(line[1]) )\n",
    "\n",
    "\t\treturn rows, cols\n",
    "\t\n",
    "def pagerank_sparse(rows, cols, alpha, epsilon):\t\n",
    "\tsize = max(max(rows), max(cols)) + 1\n",
    "\tA = sps.csr_matrix(([1]*len(rows), (rows, cols)), shape=(size,size))\n",
    "\tA = A + sps.eye(size)\n",
    "\tD = A.dot([1]*size)\n",
    "\tDinv = sps.diags([np.reciprocal(D)], [0])\n",
    "\tP = Dinv.dot(A)\n",
    "\n",
    "\te=np.array([(1-alpha)/size]*size)\n",
    "\tpi_avant=np.array(e)\n",
    "\tpi=[0]*size\n",
    "\tPt=P.transpose()\n",
    "\n",
    "\twhile(np.linalg.norm(pi-pi_avant)>epsilon):\n",
    "\t\tpi_avant=pi\n",
    "\t\tpi=alpha*(Pt.dot(pi_avant))+e\n",
    "\treturn pi\n",
    "\n",
    "dict2={0:{1,2}, 1:{2}, 2:{0}}\n",
    "rows,cols=dict_sparse2(dict2)\n",
    "pi_0=np.ones((1,max(max(rows), max(cols)) + 1))/(max(max(rows), max(cols)) + 1)\n",
    "page_rank=pagerank_sparse(rows,cols,0.85,0.00000001)\n",
    "print(page_rank)\n",
    "\n",
    "#Valeur exacte\n",
    "constante_exacte=(1-alpha/len(dict2))\n",
    "page_rank_exacte=np.ones(len(dict2))\n",
    "e=np.ones(len(dict2))\n",
    "P=np.array([[1/3,1/3,1/3],[0,1/2,1/2],[1/2,0,1/2]])\n",
    "A=np.transpose((np.identity(3)-alpha*P))\n",
    "B=((1-alpha)/len(dict2))*np.transpose(e)\n",
    "pi=np.linalg.solve(A,B)\n"
   ],
   "outputs": [
    {
     "output_type": "stream",
     "name": "stdout",
     "text": [
      "[0.32421558 0.24671492 0.42906942]\n"
     ]
    }
   ],
   "metadata": {}
  },
  {
   "cell_type": "code",
   "execution_count": 164,
   "source": [
    "def power_iteration_sparse_erreur(dict2,pi,alpha,epsilon):\n",
    "    nb_sommet=len(dict2)\n",
    "    P=dict_sparse(dict2)\n",
    "    constante=((1-alpha)/nb_sommet)*np.ones(nb_sommet)\n",
    "    P_t=P.transpose()\n",
    "    page_rank=np.zeros((1,len(dict2)))\n",
    "    iteration=0\n",
    "    while(np.linalg.norm(page_rank-pi)>epsilon):\n",
    "        iteration=iteration+1\n",
    "        page_rank=pi\n",
    "        pi=(alpha*P_t.dot(page_rank.transpose())).transpose()+constante\n",
    "    return pi,iteration\n",
    "\n",
    "#Test:\n",
    "dict2={0:{1,2}, 1:{2}, 2:{0}}\n",
    "tab=np.ones(len(dict2))/len(dict2)\n",
    "pi_0=np.ones((1,len(dict2)))/len(dict2)\n",
    "alpha=0.85\n",
    "epsilon=0.00000000000001\n",
    "\n",
    "print(power_iteration_sparse_erreur(dict2,pi_0,alpha,epsilon))"
   ],
   "outputs": [
    {
     "output_type": "stream",
     "name": "stdout",
     "text": [
      "(array([[0.38778971, 0.21481063, 0.39739966]]), 62)\n"
     ]
    }
   ],
   "metadata": {}
  },
  {
   "cell_type": "code",
   "execution_count": 267,
   "source": [
    "#Power iteration Page Rank Personalisé avec matrice sparse\n",
    "\n",
    "\"\"\"def power_iteration_sparse_perso(dict2,pi,alpha,tab):\n",
    "    nb_sommet=len(dict2)\n",
    "    P=dict_sparse(dict2)\n",
    "    y=np.zeros(nb_sommet)\n",
    "    compteur=0\n",
    "    for i in tab:\n",
    "        if(len(dict2[i])!=0 and compteur==0):\n",
    "            compteur=1\n",
    "        y[i-1]=1\n",
    "    if(compteur==0):\n",
    "        print(\"Mauvais choix de site\")\n",
    "        return 0\n",
    "    constante=((1-alpha)/np.sum(y))*y\n",
    "    P_t=P.transpose()\n",
    "    pi_t=pi.transpose()\n",
    "    return (alpha*P_t.dot(pi_t)).transpose()+constante\n",
    "\"\"\"\n",
    "#Test:\n",
    "dict2={0:{1,2}, 1:{2}, 2:{0}}\n",
    "pi_0=np.ones((1,len(dict2)))/len(dict2)\n",
    "alpha=0.85\n",
    "tab_perso=[2]\n",
    "\n",
    "#Erreur\n",
    "page_rank_2=power_iteration_sparse_perso(dict2,pi_0,alpha,tab_perso)\n",
    "iteration2=1\n",
    "\n",
    "epsilon=0.00000000000001\n",
    "while(np.linalg.norm(page_rank_2-pi_0)>epsilon): \n",
    "    iteration2=iteration2+1\n",
    "    pi_0=page_rank_2\n",
    "    page_rank_2=power_iteration_sparse_perso(dict2,pi_0,alpha,tab_perso)\n",
    "\n",
    "print(page_rank_2)\n",
    "print(iteration2)\n"
   ],
   "outputs": [
    {
     "output_type": "stream",
     "name": "stdout",
     "text": [
      "[[0.32673827 0.28886376 0.38439796]]\n",
      "61\n"
     ]
    }
   ],
   "metadata": {}
  },
  {
   "cell_type": "code",
   "execution_count": 108,
   "source": [
    "def power_iteration(dict1,tab,alpha):\n",
    "    nb_sommet=len(dict1)\n",
    "    page_rank_final=np.zeros(nb_sommet)\n",
    "    constante=(1-alpha)/nb_sommet\n",
    "    for cles in dict1:\n",
    "        somme=0\n",
    "        for cles2 in dict1:\n",
    "            if cles in dict1[cles2]: \n",
    "                somme=somme+(tab[cles2]/len(dict1[cles2]))  \n",
    "        page_rank_final[cles]=alpha*somme+constante\n",
    "    return page_rank_final"
   ],
   "outputs": [],
   "metadata": {}
  }
 ],
 "metadata": {
  "orig_nbformat": 4,
  "language_info": {
   "name": "python",
   "version": "3.9.10",
   "mimetype": "text/x-python",
   "codemirror_mode": {
    "name": "ipython",
    "version": 3
   },
   "pygments_lexer": "ipython3",
   "nbconvert_exporter": "python",
   "file_extension": ".py"
  },
  "kernelspec": {
   "name": "python3",
   "display_name": "Python 3.9.10 64-bit"
  },
  "interpreter": {
   "hash": "b0fa6594d8f4cbf19f97940f81e996739fb7646882a419484c72d19e05852a7e"
  }
 },
 "nbformat": 4,
 "nbformat_minor": 2
}