{
 "cells": [
  {
   "cell_type": "code",
   "execution_count": 79,
   "source": [
    "import numpy as np\n",
    "import matplotlib.pyplot as plt\n",
    "import wikipediaapi\n",
    "import scipy\n",
    "import seaborn"
   ],
   "outputs": [],
   "metadata": {}
  },
  {
   "cell_type": "code",
   "execution_count": 80,
   "source": [
    "\n",
    "class sommet():\n",
    "    def __init__(self,label,value=0):\n",
    "        self.label = label\n",
    "        self.value = value\n",
    "\n",
    "class arete():\n",
    "    def __init__(self,sommet1,sommet2):\n",
    "        self.sommet1 = sommet1\n",
    "        self.sommet2 = sommet2\n",
    "\n",
    "class graphe():\n",
    "    def __init__(self,sommet,liste_sommet_adjacent =()):\n",
    "        self.nb_arete = 0\n",
    "        self.nb_sommet = 1\n",
    "        # orienté\n",
    "        self.dict_successeur = {sommet:liste_sommet_adjacent}\n",
    "\n",
    "    def ajoute_sommet(self,sommet,liste_sommet_adjacent):\n",
    "        if sommet not in self.dict_adjacent:\n",
    "            self.dict_adjacent[sommet] = liste_sommet_adjacent\n",
    "        else:\n",
    "            for sommet_adjacent in liste_sommet_adjacent:\n",
    "                if sommet_adjacent not in self.dict_adjacent:\n",
    "                    self.dict_adjacent[sommet] += (sommet_adjacent)\n",
    "\n",
    "    def ajoute_arete(self,liste_arete):\n",
    "        for arete in liste_arete:\n",
    "            if arete.sommet1 in self.dict_adjacent:\n",
    "                if arete.sommet2 not in self.dict_adjacent[arete.sommet1]:\n",
    "                    self.dict_adjacent[arete.sommet1] += (arete.sommet2)\n",
    "\n",
    "\"\"\"\n",
    "wiki_wiki = wikipediaapi.Wikipedia('en')\n",
    "\n",
    "page_py = wiki_wiki.page('Python_(programming_language)')\n",
    "print(\"Page - Exists: %s\" % page_py.exists())\n",
    "# Page - Exists: True\n",
    "\n",
    "page_missing = wiki_wiki.page('NonExistingPageWithStrangeName')\n",
    "print(\"Page - Exists: %s\" %     page_missing.exists())\n",
    "# Page - Exists: False \"\"\""
   ],
   "outputs": [
    {
     "output_type": "execute_result",
     "data": {
      "text/plain": [
       "'\\nwiki_wiki = wikipediaapi.Wikipedia(\\'en\\')\\n\\npage_py = wiki_wiki.page(\\'Python_(programming_language)\\')\\nprint(\"Page - Exists: %s\" % page_py.exists())\\n# Page - Exists: True\\n\\npage_missing = wiki_wiki.page(\\'NonExistingPageWithStrangeName\\')\\nprint(\"Page - Exists: %s\" %     page_missing.exists())\\n# Page - Exists: False '"
      ]
     },
     "metadata": {},
     "execution_count": 80
    }
   ],
   "metadata": {}
  },
  {
   "cell_type": "code",
   "execution_count": 113,
   "source": [
    "def power_iteration(dict1,tab,N,alpha): # fonction qui va calculer la valeur d'une page rank une par une\n",
    "    page_rank_final=np.zeros(N) # tableau avecc les nouvelles valeurs de page rank\n",
    "    page_rank=tab # tableau avec les anciennes valeurs de page rank\n",
    "    constante=(1-alpha)/N\n",
    "\n",
    "    for cles in dict1: # parcours de tous les sommets de notre graphe\n",
    "        #print(\"cles\",cles)\n",
    "        somme=0\n",
    "        for cles2 in dict1: # on parcours tous les sommets de notre graphe\n",
    "            if cles in dict1[cles2]: # si un sommet de notre premier parcours se trouve dans l'ensemble on va l'ajouter avec la formule\n",
    "                #print(\"sommet\",cles2)\n",
    "                somme=somme+(tab[cles2-1]/len(dict1[cles2]))  \n",
    "                #print(\"valeur du page rank\",tab[cles2-1])\n",
    "                #print(\"nombre d'arcs sortants\",len(dict1[cles2]))\n",
    "        page_rank_final[cles-1]=alpha*somme+constante\n",
    "    return page_rank_final\n",
    "\n",
    "\n",
    "#Test:\n",
    "N2=3\n",
    "dict2={1:{2,3}, 2:{3}, 3:{1}}\n",
    "tab2=np.ones(N2)/N2\n",
    "alpha=0.85\n",
    "\n",
    "#Valeur exacte\n",
    "constante_exacte=(1-alpha/N2)\n",
    "page_rank_exacte=np.ones(N2)\n",
    "e=np.ones(N2)\n",
    "P=np.array([[0,1/2,1/2],[0,0,1],[1,0,0]])\n",
    "A=np.transpose((np.identity(3)-alpha*P))\n",
    "B=((1-alpha)/N2)*np.transpose(e)\n",
    "pi=np.linalg.solve(A,B)\n",
    "\n",
    "#Erreur\n",
    "page_rank_1=power_iteration(dict2,tab2,N2,alpha)\n",
    "iteration=1\n",
    "E=[]\n",
    "E.append(np.linalg.norm(pi-page_rank_1))\n",
    "\n",
    "epsilon=0.00000000000001\n",
    "while(np.linalg.norm(page_rank_1-tab2)>epsilon):    \n",
    "    E.append(np.linalg.norm(pi-page_rank_1))\n",
    "    iteration=iteration+1\n",
    "    tab2=page_rank_1\n",
    "    page_rank_1=power_iteration(dict2,tab2,N2,alpha)\n",
    "\n",
    "print(page_rank_1)\n",
    "print(iteration)\n",
    "erreur=np.array(E)\n",
    "nb_iteration=np.arange(0,iteration,1)\n",
    "\n",
    "plt.figure(figsize=[10,8])\n",
    "plt.plot(nb_iteration,erreur,label=\"Erreur\")\n",
    "plt.legend()\n",
    "plt.show()"
   ],
   "outputs": [
    {
     "output_type": "stream",
     "name": "stdout",
     "text": [
      "[0.38778971 0.21481063 0.39739966]\n",
      "62\n"
     ]
    },
    {
     "output_type": "display_data",
     "data": {
      "image/png": "[encoded data removed]",
      "text/plain": [
       "<Figure size 720x576 with 1 Axes>"
      ]
     },
     "metadata": {
      "needs_background": "light"
     }
    }
   ],
   "metadata": {}
  },
  {
   "cell_type": "code",
   "execution_count": 111,
   "source": [
    "def creation_p(dict,N): # conversion de notre dictionnaire à la matrice de transition\n",
    "    P=np.zeros((N,N))\n",
    "    for cle in dict:\n",
    "        for sommet in dict[cle]:\n",
    "            P[cle-1,sommet-1]=1/len(dict[cle])\n",
    "    return P\n",
    "\n",
    "def power_iteration_matrice(dict2,pi,N,alpha): # calcul de la valeur du page rank de manière matricielle\n",
    "    P=creation_p(dict2,N)\n",
    "    constante=((1-alpha)/N2)*np.ones(N2)\n",
    "    return alpha*np.dot(pi,P)+constante\n",
    "\n",
    "pi_0=np.ones((1,N2))/N2\n",
    "\n",
    "#Test:\n",
    "N2=3\n",
    "dict2={1:{2,3}, 2:{3}, 3:{1}}\n",
    "tab3=np.ones(N2)/N2\n",
    "alpha=0.85\n",
    "\n",
    "#Valeur exacte\n",
    "constante_exacte=(1-alpha/N2)\n",
    "page_rank_exacte=np.ones(N2)\n",
    "e=np.ones(N2)\n",
    "P=np.array([[0,1/2,1/2],[0,0,1],[1,0,0]])\n",
    "A=np.transpose((np.identity(3)-alpha*P))\n",
    "B=((1-alpha)/N2)*np.transpose(e)\n",
    "pi=np.linalg.solve(A,B)\n",
    "#print(pi)\n",
    "\n",
    "#Erreur\n",
    "page_rank_2=power_iteration_matrice(dict2,pi_0,N2,alpha)\n",
    "iteration2=1\n",
    "#E1=[]\n",
    "#E1.append(np.linalg.norm(pi-page_rank_1))\n",
    "\n",
    "epsilon=0.00000000000001\n",
    "while(np.linalg.norm(page_rank_2-pi_0)>epsilon): \n",
    "    #E.append(np.linalg.norm(pi-page_rank_1))\n",
    "    iteration2=iteration2+1\n",
    "    pi_0=page_rank_2\n",
    "    page_rank_2=power_iteration_matrice(dict2,pi_0,N2,alpha)\n",
    "\n",
    "print(page_rank_2)\n",
    "print(iteration2)\n",
    "#erreur1=np.array(E1)\n",
    "#nb_iteration=np.arange(0,iteration,1)\n",
    "\n",
    "#plt.figure(figsize=[10,8])\n",
    "#plt.plot(nb_iteration,erreur1,label=\"Erreur\")\n",
    "#plt.legend()\n",
    "#plt.show()\n"
   ],
   "outputs": [
    {
     "output_type": "stream",
     "name": "stdout",
     "text": [
      "[[0.38778971 0.21481063 0.39739966]]\n",
      "62\n"
     ]
    }
   ],
   "metadata": {}
  },
  {
   "cell_type": "code",
   "execution_count": null,
   "source": [],
   "outputs": [],
   "metadata": {}
  }
 ],
 "metadata": {
  "orig_nbformat": 4,
  "language_info": {
   "name": "python",
   "version": "3.9.10",
   "mimetype": "text/x-python",
   "codemirror_mode": {
    "name": "ipython",
    "version": 3
   },
   "pygments_lexer": "ipython3",
   "nbconvert_exporter": "python",
   "file_extension": ".py"
  },
  "kernelspec": {
   "name": "python3",
   "display_name": "Python 3.9.10 64-bit"
  },
  "interpreter": {
   "hash": "b0fa6594d8f4cbf19f97940f81e996739fb7646882a419484c72d19e05852a7e"
  }
 },
 "nbformat": 4,
 "nbformat_minor": 2
}